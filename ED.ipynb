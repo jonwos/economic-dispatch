{
 "cells": [
  {
   "cell_type": "code",
   "execution_count": 5,
   "id": "b1ea62ad",
   "metadata": {},
   "outputs": [
    {
     "name": "stderr",
     "output_type": "stream",
     "text": [
      "'git' is not recognized as an internal or external command,\n",
      "operable program or batch file.\n",
      "'git' is not recognized as an internal or external command,\n",
      "operable program or batch file.\n",
      "'git' is not recognized as an internal or external command,\n",
      "operable program or batch file.\n"
     ]
    }
   ],
   "source": [
    "!git commit -m \"firt_look\"\n",
    "!git remote ass origin https://github.com/wilkp0/economic-dispatch/\n",
    "!git push -u origin master \n"
   ]
  },
  {
   "cell_type": "code",
   "execution_count": null,
   "id": "6c49548f",
   "metadata": {},
   "outputs": [],
   "source": [
    "'''\n",
    "Please Review for Next or When I'm done \n",
    "https://colab.research.google.com/github/jckantor/CBE30338/blob/master/docs/06.04-Linear-Production-Model-in-Pyomo.ipynb#scrollTo=5p2G6vl7IzxH\n",
    "https://jckantor.github.io/CBE30338/06.05-Linear-Programming-in-Pyomo.html\n",
    "'''"
   ]
  },
  {
   "cell_type": "code",
   "execution_count": null,
   "id": "fb5e854e",
   "metadata": {},
   "outputs": [],
   "source": [
    "!pip install pyomo "
   ]
  },
  {
   "cell_type": "code",
   "execution_count": 5,
   "id": "486c1853",
   "metadata": {},
   "outputs": [
    {
     "data": {
      "text/plain": [
       "'\\nImport data once finished \\n'"
      ]
     },
     "execution_count": 5,
     "metadata": {},
     "output_type": "execute_result"
    }
   ],
   "source": [
    "from pyomo.environ import *\n",
    "from pyomo.opt import SolverStatus, TerminationCondition \n",
    "import pandas as pd\n",
    "import matplotlib.pyplot as plt\n",
    "import matplotlib.colors as mcolors \n",
    "import numpy as np \n",
    "import seaborn as sns \n",
    "\n",
    "'''\n",
    "Import data once finished \n",
    "'''\n",
    "#comment \n"
   ]
  },
  {
   "cell_type": "code",
   "execution_count": null,
   "id": "7923488e",
   "metadata": {},
   "outputs": [],
   "source": [
    "def readDataFile(filename):\n",
    "    #pandas reads data files can probably read from pyomo as well \n",
    "    Demand=pandas.read_excel(filename,sheet_name=,index_col=0) \n",
    "    Load=pandas.read_excel(filename,sheet_name=,index_col=0) \n",
    "    PVGen=pandas.read_excel(filename,sheet_name=,index_col=0) \n",
    "    PVData\n",
    "    Battery\n",
    "    Generator\n",
    "    Ramping\n",
    "    RampCost\n",
    "    Network\n",
    "    \n",
    "    \n",
    "    return {}#dictionary \n",
    "\n",
    "\n",
    "    \n",
    "    \n",
    "    #pd.read_excel(filename, sheet_name='IDK', index_col=0)\n",
    "    "
   ]
  },
  {
   "cell_type": "code",
   "execution_count": null,
   "id": "3158c093",
   "metadata": {},
   "outputs": [],
   "source": [
    "def optimization(DataIn, Case):\n",
    "    #Unpacking\n",
    "    Demand=DataIn['Demand']\n",
    "    Load=DataIn['Load']\n",
    "    PVgen=DataIn['PVGen']\n",
    "\n",
    "#Model function\n",
    "\n",
    "model=ConcreteModel()\n",
    "\n",
    "#Define Sets   e.g set time steps etc.\n",
    "#Pyomo Set \n",
    "\n",
    "\n",
    "#Define Parameters (unsure what we will be using yet, start simple and exapand) e.g Pmin, Pmin\n",
    "#pyomo \n",
    "\n",
    "#Give Param values \n",
    "\n",
    "#Define Constraints ////////////////////////////////////////////////////////////\n",
    "\n",
    "#e.g  CostFunction, PowerMin, PowerMax, RampUp, ON/OFF(binary), Battery\n",
    "#Later consider Q? \n",
    "\n",
    "#//////////////////////////////////////////////////////////////////////////////\n",
    "\n",
    "\n",
    "#create several Cases (no rampup, transmission line, network)\n",
    "\n",
    "    return (model)\n"
   ]
  },
  {
   "cell_type": "code",
   "execution_count": 6,
   "id": "94125891",
   "metadata": {},
   "outputs": [],
   "source": [
    "#//////////////////////////////////////////////////\n",
    "\n",
    "# TEST CASE(S)\n",
    "\n",
    "#opt=Solver('WhatWeUseForSolving')\n",
    "\n",
    "#///////////////////////////////////////////////////\n"
   ]
  },
  {
   "cell_type": "code",
   "execution_count": null,
   "id": "c8562f77",
   "metadata": {},
   "outputs": [],
   "source": [
    "#/////////////////////////////////////////////////////\n",
    "\n",
    "#RENDERING (VISUALIZATION)\n",
    "\n",
    "#/////////////////////////////////////////////////////"
   ]
  }
 ],
 "metadata": {
  "kernelspec": {
   "display_name": "Python 3 (ipykernel)",
   "language": "python",
   "name": "python3"
  },
  "language_info": {
   "codemirror_mode": {
    "name": "ipython",
    "version": 3
   },
   "file_extension": ".py",
   "mimetype": "text/x-python",
   "name": "python",
   "nbconvert_exporter": "python",
   "pygments_lexer": "ipython3",
   "version": "3.9.7"
  }
 },
 "nbformat": 4,
 "nbformat_minor": 5
}
